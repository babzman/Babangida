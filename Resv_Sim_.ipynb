{
  "nbformat": 4,
  "nbformat_minor": 0,
  "metadata": {
    "colab": {
      "name": "Resv. Sim..ipynb",
      "provenance": [],
      "authorship_tag": "ABX9TyMT94AQRo61w1E/bGgL+iep",
      "include_colab_link": true
    },
    "kernelspec": {
      "name": "python3",
      "display_name": "Python 3"
    },
    "language_info": {
      "name": "python"
    }
  },
  "cells": [
    {
      "cell_type": "markdown",
      "metadata": {
        "id": "view-in-github",
        "colab_type": "text"
      },
      "source": [
        "<a href=\"https://colab.research.google.com/github/babzman/Babangida/blob/master/Resv_Sim_.ipynb\" target=\"_parent\"><img src=\"https://colab.research.google.com/assets/colab-badge.svg\" alt=\"Open In Colab\"/></a>"
      ]
    },
    {
      "cell_type": "code",
      "execution_count": 1,
      "metadata": {
        "id": "3-2nuUsoyCTS"
      },
      "outputs": [],
      "source": [
        "# Newton Raphson\n",
        "def NR(x,tol,fxn):\n",
        "    from scipy.misc import derivative as df  \n",
        "    f0=fxn(x)\n",
        "    f1=df(fxn,x)\n",
        "    x1=x-(f0/f1)\n",
        "    if abs(x1-x)<tol:\n",
        "        return x\n",
        "    else:\n",
        "        return NR(x1,tol,fxn)"
      ]
    },
    {
      "cell_type": "code",
      "source": [
        "def pressure(co1,co2,co3,bcf,bcl):\n",
        "    import numpy as np\n",
        "    a=np.linalg.inv(np.array([[0,co2,co3],[co1,co2,co3],[co1,co2,0]]))\n",
        "    P=np.matmul(a,np.array([[-co1*bcf],[0],[-co3*bcl]]))\n",
        "    return P#pb,pc,pf=P[0,0],P[1,0],P[2,0]\n",
        "print(pressure(30,50,34,100,100))"
      ],
      "metadata": {
        "colab": {
          "base_uri": "https://localhost:8080/"
        },
        "id": "tJ3Z-MvYzKzR",
        "outputId": "7340dba5-1728-4e00-99f1-1b93727578ea"
      },
      "execution_count": 2,
      "outputs": [
        {
          "output_type": "stream",
          "name": "stdout",
          "text": [
            "[[ 100.]\n",
            " [-128.]\n",
            " [ 100.]]\n"
          ]
        }
      ]
    },
    {
      "cell_type": "code",
      "source": [
        "def Sat(Sn,por,dt,dx,P,prod):\n",
        "    a=(dt/por)\n",
        "    b=(prod[0]*(P[2]-P[1])/dx**2)\n",
        "    c=(prod[1]*(P[1]-P[0])/dx**2)\n",
        "    return Sn+a*(b-c)"
      ],
      "metadata": {
        "id": "-aZm7_tZzK9h"
      },
      "execution_count": 3,
      "outputs": []
    },
    {
      "cell_type": "code",
      "source": [
        "def simulator(Soi,So,mo,mt,dx,bcf,bcl,Po,por,dt,tol,itr=0):\n",
        "    import numpy as np\n",
        "    itr=itr+1\n",
        "    prod1,prod2=mt*Soi[0]/dx**2, mt*So[1]/dx**2\n",
        "    prod4,prod5==mt*Soi[0]/dx**2, mt*Soi[1]/dx**2\n",
        "    prod3=prod1+prod2\n",
        "    P=pdet(prod1,prod3,prod2,bcf,bcl)\n",
        "    prod_i=[prod2,prod1]\n",
        "    prod_i1=[prod4,prod5]\n",
        "    S=list(sfx(So,por,dt,dx,P,prod_i),sfx(Soi,por,dt,dx,P,prod_i1))\n",
        "    err_p,err_s=abs(sum(np.array(P)-np.array(Po))),abs(sum(np.array(S)-np.array(So)))\n",
        "    if err<tol:\n",
        "        return \"Okay at \"+str(itr-1)+\" iteration\"\n",
        "    return simulator(S[1],S[0],mo,mt,dx,bcf,bcl,P,por,dt,itr,tol)"
      ],
      "metadata": {
        "id": "FnmcxZFFzRX-"
      },
      "execution_count": 7,
      "outputs": []
    }
  ]
}